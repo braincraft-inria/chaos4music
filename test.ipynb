{
 "cells": [
  {
   "cell_type": "code",
   "metadata": {
    "ExecuteTime": {
     "end_time": "2025-04-01T15:00:23.493964Z",
     "start_time": "2025-04-01T15:00:16.612135Z"
    }
   },
   "source": [
    "from reservoirpy.nodes import Reservoir, Identity\n",
    "import numpy as np\n",
    "import sounddevice as sd\n",
    "import scipy.io.wavfile as wav\n",
    "\n",
    "\n",
    "\n",
    "nb_neurons = 3\n",
    "steps = 50\n",
    "\n",
    "# Create a reservoir with nb_neurons\n",
    "reservoir = Reservoir(units=nb_neurons, sr=0.9, lr=0.3)\n",
    "readout = Identity()\n",
    "reservoir <<= readout\n",
    "model = reservoir >> readout\n",
    "\n",
    "# Initialize\n",
    "first_step = np.zeros((1, nb_neurons))\n",
    "sample_played = []\n",
    "penalty = 1\n",
    "penalty_length = 5\n",
    "\n",
    "# get the samples\n",
    "sr_kick, kick = wav.read(\"samples/808_drum_kit/kicks/808-Kicks01.wav\")\n",
    "sr_snare, snare = wav.read(\"samples/808_drum_kit/snares/808-Snare01.wav\")\n",
    "sr_hh, hh = wav.read(\"samples/808_drum_kit/hihats/808-HiHats01.wav\")\n",
    "samples = [(kick, sr_kick), (snare, sr_snare), (hh, sr_hh)]\n",
    "\n",
    "for i in range(100):\n",
    "    # Run the model\n",
    "    output = model.call(first_step)\n",
    "\n",
    "    # Apply penalty\n",
    "    output[0, sample_played] -= penalty\n",
    "\n",
    "    # Get the sample\n",
    "    sample = np.argmax(output[0])\n",
    "    print(f\"Sample {i}: {sample}\")\n",
    "\n",
    "    #play the selected sample\n",
    "    sound = samples[sample]\n",
    "    sd.play(sound[0], sound[1])  # sound[0] --> frequence, sound[1] --> samplerate\n",
    "    sd.wait()\n",
    "\n",
    "\n",
    "    # Update the sample played\n",
    "    sample_played.append(sample)\n",
    "    if len(sample_played) > penalty_length:\n",
    "        sample_played.pop(0)"
   ],
   "outputs": [
    {
     "name": "stderr",
     "output_type": "stream",
     "text": [
      "/var/folders/gv/_x9lnydj1d71rl0vtl5mrtg00000gn/T/ipykernel_95977/803537297.py:26: WavFileWarning: Chunk (non-data) not understood, skipping it.\n",
      "  sr_hh, hh = wav.read(\"808_drum_kit/hihats/808-HiHats01.wav\")\n"
     ]
    },
    {
     "name": "stdout",
     "output_type": "stream",
     "text": [
      "Sample 0: 0\n",
      "Sample 1: 1\n",
      "Sample 2: 2\n",
      "Sample 3: 1\n",
      "Sample 4: 1\n",
      "Sample 5: 1\n",
      "Sample 6: 0\n",
      "Sample 7: 1\n",
      "Sample 8: 1\n",
      "Sample 9: 1\n",
      "Sample 10: 1\n",
      "Sample 11: 1\n",
      "Sample 12: 0\n",
      "Sample 13: 1\n",
      "Sample 14: 1\n",
      "Sample 15: 1\n",
      "Sample 16: 1\n",
      "Sample 17: 1\n",
      "Sample 18: 0\n",
      "Sample 19: 1\n",
      "Sample 20: 1\n",
      "Sample 21: 1\n",
      "Sample 22: 1\n",
      "Sample 23: 1\n",
      "Sample 24: 0\n",
      "Sample 25: 1\n",
      "Sample 26: 1\n",
      "Sample 27: 1\n",
      "Sample 28: 1\n",
      "Sample 29: 1\n",
      "Sample 30: 0\n",
      "Sample 31: 1\n",
      "Sample 32: 1\n",
      "Sample 33: 1\n",
      "Sample 34: 1\n",
      "Sample 35: 1\n",
      "Sample 36: 0\n",
      "Sample 37: 1\n",
      "Sample 38: 1\n",
      "Sample 39: 1\n",
      "Sample 40: 1\n",
      "Sample 41: 1\n",
      "Sample 42: 0\n",
      "Sample 43: 1\n",
      "Sample 44: 1\n",
      "Sample 45: 1\n",
      "Sample 46: 1\n",
      "Sample 47: 1\n",
      "Sample 48: 0\n",
      "Sample 49: 1\n",
      "Sample 50: 1\n",
      "Sample 51: 1\n",
      "Sample 52: 1\n",
      "Sample 53: 1\n",
      "Sample 54: 0\n",
      "Sample 55: 1\n"
     ]
    },
    {
     "ename": "KeyboardInterrupt",
     "evalue": "",
     "output_type": "error",
     "traceback": [
      "\u001B[0;31m---------------------------------------------------------------------------\u001B[0m",
      "\u001B[0;31mKeyboardInterrupt\u001B[0m                         Traceback (most recent call last)",
      "Cell \u001B[0;32mIn[6], line 42\u001B[0m\n\u001B[1;32m     40\u001B[0m \u001B[38;5;66;03m#play the selected sample\u001B[39;00m\n\u001B[1;32m     41\u001B[0m sound \u001B[38;5;241m=\u001B[39m samples[sample]\n\u001B[0;32m---> 42\u001B[0m \u001B[43msd\u001B[49m\u001B[38;5;241;43m.\u001B[39;49m\u001B[43mplay\u001B[49m\u001B[43m(\u001B[49m\u001B[43msound\u001B[49m\u001B[43m[\u001B[49m\u001B[38;5;241;43m0\u001B[39;49m\u001B[43m]\u001B[49m\u001B[43m,\u001B[49m\u001B[43m \u001B[49m\u001B[43msound\u001B[49m\u001B[43m[\u001B[49m\u001B[38;5;241;43m1\u001B[39;49m\u001B[43m]\u001B[49m\u001B[43m)\u001B[49m  \u001B[38;5;66;03m# sound[0] --> frequence, sound[1] --> samplerate\u001B[39;00m\n\u001B[1;32m     43\u001B[0m \u001B[38;5;66;03m#sd.wait()\u001B[39;00m\n\u001B[1;32m     44\u001B[0m \n\u001B[1;32m     45\u001B[0m \n\u001B[1;32m     46\u001B[0m \u001B[38;5;66;03m# Update the sample played\u001B[39;00m\n\u001B[1;32m     47\u001B[0m sample_played\u001B[38;5;241m.\u001B[39mappend(sample)\n",
      "File \u001B[0;32m~/Desktop/MnemoHack/chaos4music/.venv/lib/python3.10/site-packages/sounddevice.py:178\u001B[0m, in \u001B[0;36mplay\u001B[0;34m(data, samplerate, mapping, blocking, loop, **kwargs)\u001B[0m\n\u001B[1;32m    175\u001B[0m     ctx\u001B[38;5;241m.\u001B[39mwrite_outdata(outdata)\n\u001B[1;32m    176\u001B[0m     ctx\u001B[38;5;241m.\u001B[39mcallback_exit()\n\u001B[0;32m--> 178\u001B[0m \u001B[43mctx\u001B[49m\u001B[38;5;241;43m.\u001B[39;49m\u001B[43mstart_stream\u001B[49m\u001B[43m(\u001B[49m\u001B[43mOutputStream\u001B[49m\u001B[43m,\u001B[49m\u001B[43m \u001B[49m\u001B[43msamplerate\u001B[49m\u001B[43m,\u001B[49m\u001B[43m \u001B[49m\u001B[43mctx\u001B[49m\u001B[38;5;241;43m.\u001B[39;49m\u001B[43moutput_channels\u001B[49m\u001B[43m,\u001B[49m\n\u001B[1;32m    179\u001B[0m \u001B[43m                 \u001B[49m\u001B[43mctx\u001B[49m\u001B[38;5;241;43m.\u001B[39;49m\u001B[43moutput_dtype\u001B[49m\u001B[43m,\u001B[49m\u001B[43m \u001B[49m\u001B[43mcallback\u001B[49m\u001B[43m,\u001B[49m\u001B[43m \u001B[49m\u001B[43mblocking\u001B[49m\u001B[43m,\u001B[49m\n\u001B[1;32m    180\u001B[0m \u001B[43m                 \u001B[49m\u001B[43mprime_output_buffers_using_stream_callback\u001B[49m\u001B[38;5;241;43m=\u001B[39;49m\u001B[38;5;28;43;01mFalse\u001B[39;49;00m\u001B[43m,\u001B[49m\n\u001B[1;32m    181\u001B[0m \u001B[43m                 \u001B[49m\u001B[38;5;241;43m*\u001B[39;49m\u001B[38;5;241;43m*\u001B[39;49m\u001B[43mkwargs\u001B[49m\u001B[43m)\u001B[49m\n",
      "File \u001B[0;32m~/Desktop/MnemoHack/chaos4music/.venv/lib/python3.10/site-packages/sounddevice.py:2625\u001B[0m, in \u001B[0;36m_CallbackContext.start_stream\u001B[0;34m(self, StreamClass, samplerate, channels, dtype, callback, blocking, **kwargs)\u001B[0m\n\u001B[1;32m   2623\u001B[0m \u001B[38;5;28;01mdef\u001B[39;00m\u001B[38;5;250m \u001B[39m\u001B[38;5;21mstart_stream\u001B[39m(\u001B[38;5;28mself\u001B[39m, StreamClass, samplerate, channels, dtype, callback,\n\u001B[1;32m   2624\u001B[0m                  blocking, \u001B[38;5;241m*\u001B[39m\u001B[38;5;241m*\u001B[39mkwargs):\n\u001B[0;32m-> 2625\u001B[0m     \u001B[43mstop\u001B[49m\u001B[43m(\u001B[49m\u001B[43m)\u001B[49m  \u001B[38;5;66;03m# Stop previous playback/recording\u001B[39;00m\n\u001B[1;32m   2626\u001B[0m     \u001B[38;5;28mself\u001B[39m\u001B[38;5;241m.\u001B[39mstream \u001B[38;5;241m=\u001B[39m StreamClass(samplerate\u001B[38;5;241m=\u001B[39msamplerate,\n\u001B[1;32m   2627\u001B[0m                               channels\u001B[38;5;241m=\u001B[39mchannels,\n\u001B[1;32m   2628\u001B[0m                               dtype\u001B[38;5;241m=\u001B[39mdtype,\n\u001B[1;32m   2629\u001B[0m                               callback\u001B[38;5;241m=\u001B[39mcallback,\n\u001B[1;32m   2630\u001B[0m                               finished_callback\u001B[38;5;241m=\u001B[39m\u001B[38;5;28mself\u001B[39m\u001B[38;5;241m.\u001B[39mfinished_callback,\n\u001B[1;32m   2631\u001B[0m                               \u001B[38;5;241m*\u001B[39m\u001B[38;5;241m*\u001B[39mkwargs)\n\u001B[1;32m   2632\u001B[0m     \u001B[38;5;28mself\u001B[39m\u001B[38;5;241m.\u001B[39mstream\u001B[38;5;241m.\u001B[39mstart()\n",
      "File \u001B[0;32m~/Desktop/MnemoHack/chaos4music/.venv/lib/python3.10/site-packages/sounddevice.py:412\u001B[0m, in \u001B[0;36mstop\u001B[0;34m(ignore_errors)\u001B[0m\n\u001B[1;32m    402\u001B[0m \u001B[38;5;250m\u001B[39m\u001B[38;5;124;03m\"\"\"Stop playback/recording.\u001B[39;00m\n\u001B[1;32m    403\u001B[0m \n\u001B[1;32m    404\u001B[0m \u001B[38;5;124;03mThis only stops `play()`, `rec()` and `playrec()`, but has no\u001B[39;00m\n\u001B[0;32m   (...)\u001B[0m\n\u001B[1;32m    407\u001B[0m \n\u001B[1;32m    408\u001B[0m \u001B[38;5;124;03m\"\"\"\u001B[39;00m\n\u001B[1;32m    409\u001B[0m \u001B[38;5;28;01mif\u001B[39;00m _last_callback:\n\u001B[1;32m    410\u001B[0m     \u001B[38;5;66;03m# Calling stop() before close() is necessary for older PortAudio\u001B[39;00m\n\u001B[1;32m    411\u001B[0m     \u001B[38;5;66;03m# versions, see issue #87:\u001B[39;00m\n\u001B[0;32m--> 412\u001B[0m     \u001B[43m_last_callback\u001B[49m\u001B[38;5;241;43m.\u001B[39;49m\u001B[43mstream\u001B[49m\u001B[38;5;241;43m.\u001B[39;49m\u001B[43mstop\u001B[49m\u001B[43m(\u001B[49m\u001B[43mignore_errors\u001B[49m\u001B[43m)\u001B[49m\n\u001B[1;32m    413\u001B[0m     _last_callback\u001B[38;5;241m.\u001B[39mstream\u001B[38;5;241m.\u001B[39mclose(ignore_errors)\n",
      "File \u001B[0;32m~/Desktop/MnemoHack/chaos4music/.venv/lib/python3.10/site-packages/sounddevice.py:1137\u001B[0m, in \u001B[0;36m_StreamBase.stop\u001B[0;34m(self, ignore_errors)\u001B[0m\n\u001B[1;32m   1126\u001B[0m \u001B[38;5;28;01mdef\u001B[39;00m\u001B[38;5;250m \u001B[39m\u001B[38;5;21mstop\u001B[39m(\u001B[38;5;28mself\u001B[39m, ignore_errors\u001B[38;5;241m=\u001B[39m\u001B[38;5;28;01mTrue\u001B[39;00m):\n\u001B[1;32m   1127\u001B[0m \u001B[38;5;250m    \u001B[39m\u001B[38;5;124;03m\"\"\"Terminate audio processing.\u001B[39;00m\n\u001B[1;32m   1128\u001B[0m \n\u001B[1;32m   1129\u001B[0m \u001B[38;5;124;03m    This waits until all pending audio buffers have been played\u001B[39;00m\n\u001B[0;32m   (...)\u001B[0m\n\u001B[1;32m   1135\u001B[0m \n\u001B[1;32m   1136\u001B[0m \u001B[38;5;124;03m    \"\"\"\u001B[39;00m\n\u001B[0;32m-> 1137\u001B[0m     err \u001B[38;5;241m=\u001B[39m \u001B[43m_lib\u001B[49m\u001B[38;5;241;43m.\u001B[39;49m\u001B[43mPa_StopStream\u001B[49m\u001B[43m(\u001B[49m\u001B[38;5;28;43mself\u001B[39;49m\u001B[38;5;241;43m.\u001B[39;49m\u001B[43m_ptr\u001B[49m\u001B[43m)\u001B[49m\n\u001B[1;32m   1138\u001B[0m     \u001B[38;5;28;01mif\u001B[39;00m \u001B[38;5;129;01mnot\u001B[39;00m ignore_errors:\n\u001B[1;32m   1139\u001B[0m         _check(err, \u001B[38;5;124m'\u001B[39m\u001B[38;5;124mError stopping stream\u001B[39m\u001B[38;5;124m'\u001B[39m)\n",
      "\u001B[0;31mKeyboardInterrupt\u001B[0m: "
     ]
    }
   ],
   "execution_count": 6
  },
  {
   "cell_type": "code",
   "execution_count": null,
   "metadata": {},
   "outputs": [],
   "source": []
  }
 ],
 "metadata": {
  "kernelspec": {
   "display_name": "music_venv",
   "language": "python",
   "name": "python3"
  },
  "language_info": {
   "codemirror_mode": {
    "name": "ipython",
    "version": 3
   },
   "file_extension": ".py",
   "mimetype": "text/x-python",
   "name": "python",
   "nbconvert_exporter": "python",
   "pygments_lexer": "ipython3",
   "version": "3.11.6"
  }
 },
 "nbformat": 4,
 "nbformat_minor": 2
}
